Import all required Libraries

import pandas as pd{
  "cells": [
    {
      "cell_type": "code",
      "execution_count": null,
      "id": "1",
      "metadata": {},
      "outputs": [],
      "source": [
        "import pandas as pd\n",
        "import numpy as np\n",
        "import seaborn as sns\n",
        "import matplotlib.pyplot as plt\n",
        "%matplotlib inline\n",
        "# %matplotlib inline is used because after this we don't have to write plt.show command to visualize the graph.\n",
        "df = pd.read_csv('data_students_performance.csv')\n",
        "df.head()\n",
        "df.info()\n",
        "df['math score'].value_counts() > 1\n",
        "df.columns\n",
        "df.isnull().sum()\n",
        "print('\\n\\nThe features in the dataset are as follows : ')\n",
        "print('1. math score : ', df['math score'].dtype)\n",
        "print('2. reading score : ', df['reading score'].dtype)\n",
        "print('3. writing score : ', df['writing score'].dtype)\n"
      ]
    },
    {
      "cell_type": "markdown",
      "metadata": {},
      "source": [
        "##### Outliers\n",
        "In data science, an outlier is a value in a dataset that is much larger or smaller than the other values.\n",
        "2. Scan all numeric variables for outliers. If there are outliers, use any of the suitable techniques to deal with them.\n",
        "We can easily see the outliers in the dataset by using boxplot. To plot box plot we can use either pyplot or sns.\n",
        "Finding Outliers: There are 2 ways to find outliers.\n",
        "1. Z Score\n",
        "2. IQR Technique"
      ]
    },
    {
      "cell_type": "code",
      "execution_count": null,
      "id": "2",
      "metadata": {},
      "outputs": [],
      "source": [
        "sns.boxplot(df) # sns to box plot the values that are out side the bars are the outliers\n",
        "plt.figure(figsize=(10,4))\n",
        "sns.histplot(df['writing score'], kde=True)\n",
        "sns.despine()\n",
        "plt.show()"
      ]
    },
    {
      "cell_type": "markdown",
      "metadata": {},
      "source": [
        "1. Z-Score to find Outliers:\n",
        "outliers = []\n",
        "def detect_outliers_zs(data):\n",
        "    threshold = 3\n",
        "    mean = np.mean(data)\n",
        "    std = np.std(data)\n",
        "    for i in data:\n",
        "        z_score = (i-mean)/std\n",
        "        if np.abs(z_score)>threshold:\n",
        "            outliers.append(i)\n",
        "    return outliers\n",
        "sample_outliers_math = detect_outliers_zs(df['math score'])\n",
        "sample_outliers_reading = detect_outliers_zs(df['reading score'])\n",
        "smaple_outliers_writing = detect_outliers_zs(df['writing score'])\n",
        "print(sample_outliers_math)\n",
        "print(sample_outliers_reading)\n",
        "print(smaple_outliers_writing)\n"
      ]
    },
    {
      "cell_type": "markdown",
      "metadata": {},
      "source": [
        "2. IQR to find Outliers \noutliers = []\n",
        "def detect_outliers_iqr(data):\n",
        "    data = sorted(data)\n",
        "    q1 = np.percentile(data,25)\n",
        "    q3 = np.percentile(data, 75)\n",
        "    IQR = q3-q1\n",
        "    lwr_bound = q1-(1.5*IQR)\n",
        "    upr_bound = q3+(1.5*IQR)\n",
        "    for i in data:\n",
        "        if (i < lwr_bound or i > upr_bound):\n",
        "                outliers.append(i)\n",
        "    return outliers\n",
        "sample_outliers_math = detect_outliers_iqr(df['math score'])\n",
        "sample_outliers_reading = detect_outliers_iqr(df['reading score'])\n",
        "sample_outliers_writing = detect_outliers_iqr(df['writing score'])\n",
        "print(sample_outliers_math)\n",
        "print(sample_outliers_reading)\n",
        "print(sample_outliers_writing)\n"
      ]
    },
    {
      "cell_type": "markdown",
      "metadata": {},
      "source": [
        "Dealing with Outliers\n",
        "We can replace the outliers values with the mean or median value and thus remove outliers from the dataset.\n",
        "Plotting the boxplot again after removing the outliers, now you can see there are no outliers.\n"
      ]
    },
    {
      "cell_type": "code",
      "execution_count": null,
      "id": "3",
      "metadata": {},
      "outputs": [],
      "source": [
        "sns.boxplot(df)\n",
        "plt.figure(figsize=(10,4))\n",
        "for i in ['math score', 'reading score', 'writing score']:\n",
        "    sns.histplot(df[i], kde=True)\n",
        "    sns.despine()\n",
        "    plt.show()\n",
        "    print('\\n\\n')"
      ]
    }
  ],
  "metadata": {},
  "nbformat": 4,
  "nbformat_minor": 5
}

import numpy as np
import seaborn as sns
import matplotlib.pyplot as plt
%matplotlib inline
# %matplotlib inline is used because after this we don't have to write plt.show command to visualize the graph.
df = pd.read_csv('data_students_performance.csv')
df.head()
df.info()
1. Scan all variables for missing values and inconsistencies. If there are missing values and/or inconsistencies, use any of the suitable techniques to deal with them.


df['math score'].value_counts()  > 1
df.columns
df.isnull().sum()
The Features in the dataset are as follows:
print("\n\nThe features in the dataset are as follows : ")
print("1. math score : ", df['math score'].dtype)
print("2. reading score : ", df['reading score'].dtype)
print("3. writing score : ", df['writing score'].dtype)
<br/>

##### Outliers
In data science, an outlier is a value in a dataset that is much larger or smaller than the other values.
<br/>
2. Scan all numeric variables for outliers. If there are outliers, use any of the suitable techniques to deal with them.<br/>
We can easily see the outliers in the dataset by using boxplot. To plot box plot we can use either pyplot or sns.</br>

**Finding Outliers**: There are 2 ways to find outliers.
    1. Z Score
    2. IQR Technique
# df.plot(kind="box", subplots=True, layout=(7,2), figsize=(12,15)) 
sns.boxplot(df) # sns to box plot the values that are out side the bars are the outliers
plt.figure(figsize=(10,4))
sns.histplot(df['writing score'], kde=True)
sns.despine()
plt.show()
1. Z-Score to find Outliers:
outliers = []

def detect_outliers_zs(data):
    threshold = 3
    mean = np.mean(data)
    std = np.std(data)

    for i in data:
        z_score = (i-mean)/std
        if np.abs(z_score)>threshold:
            outliers.append(i)
    return outliers
    
sample_outliers_math = detect_outliers_zs(df['math score'])
sample_outliers_reading = detect_outliers_zs(df['reading score'])
smaple_outliers_writing = detect_outliers_zs(df['writing score'])

print(sample_outliers_math)
print(sample_outliers_reading)
print(smaple_outliers_writing)

2. IQR to find Outliers 
outliers = []

def detect_outliers_iqr(data):
    data = sorted(data)
    q1 = np.percentile(data,25)
    q3 = np.percentile(data, 75)
    # print(q3, q1)
    IQR = q3-q1
    lwr_bound = q1-(1.5*IQR)
    upr_bound = q3+(1.5*IQR)

    for i in data:
        if (i < lwr_bound or i > upr_bound):
                outliers.append(i)
    return outliers
sample_outliers_math = detect_outliers_iqr(df['math score'])
sample_outliers_reading = detect_outliers_iqr(df['reading score'])
sample_outliers_writing = detect_outliers_iqr(df['writing score'])

print(sample_outliers_math)
print(sample_outliers_reading)
print(sample_outliers_writing)

**Dealing with Outliers**
We can replce the outliers values with the mean or median value and thus remove outliers from the dataset.
Plotting the boxplot again after removing the outliers, now you can see tere are no outliers.
sns.boxplot(df)
Plotting hist plot
plt.figure(figsize=(10,4))

for i in ['math score', 'reading score', 'writing score']:
    sns.histplot(df[i], kde=True)
    sns.despine()
    plt.show()
    print("\n\n")
