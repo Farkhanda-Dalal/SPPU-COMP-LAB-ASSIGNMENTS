import pandas as pd
import numpy as np
import matplotlib.pyplot as plt
import seaborn as sns

data = pd.read_csv('nba.csv')

#Give no of rows and cols in the csv
print(data.shape)

#Prints given no. of rows from start of csv
print(data.head(10))
# Display the last 10 rows of the DataFrame
print(data.tail(10))

#Sorting by name in asc order
data.sort_values(by='Name', ascending=True, inplace=False)


#by: Specifies the column(s) to sort by.
#ascending:
#True for ascending order (default).
#False for descending order.
#inplace:
#True modifies the DataFrame in place.
#False returns a sorted copy without modifying the original DataFrame.

#print desired columns only
print(data[['Name', 'College', 'Team']])

#print single column
print(data['Name'])
#print in between columns

#Using .iloc[] (Index-Based Selection):
#You can select columns by their positions (integer indices).
print(data.iloc[:, 1:3])

#:: Select all rows.
#1:3: Select columns at indices 1 (inclusive) to 3 (exclusive).
#print in between columns

#Using .loc[] (Label-Based Selection):
#You can select columns by their col names
print(data.loc[:, 'Age':'Salary'])

# Print rows 13 to 14 (indices 12 to 13) and columns 4 to 7 (indices 3 to 6)
print(data.iloc[12:14, 3:7])

#print only those rows whose no col value is less than 30

# Filter rows where the 'Number' column has values less than 30
filtered_data = data[data['Number'] < 30]

# Print the filtered rows
print(filtered_data['Number'])

#print only those rows whose college name is 'Ohio State'

filtered_data = data[data['College'] == 'Ohio State']

# Print the filtered rows
print(filtered_data['College'])

#function provides a summary
print(data.describe())

#data.info() provides list of column names, types, and non-null counts.
print(data.info())

# print(data.dtypes)
print(data.dtypes)


# Replace '-' with '.' in the 'Height' column
data['Height'] = data['Height'].str.replace('-', '.', regex=False)

# Display the first few rows to verify the changes
print(data['Height'].head(10))

#find missing data in each col:
print("Missing values per column:")
print(data.isnull().sum())

# Replace missing values in non-numeric columns with 'Unknown'
non_numeric_columns = data.select_dtypes(exclude=['float64']).columns
data[non_numeric_columns] = data[non_numeric_columns].fillna("Unknown")
print(data.isnull().sum())
# Replace missing values in numeric columns with the median
data[numeric_columns] = data[numeric_columns].apply(lambda col: col.fillna(col.median()))
print(data.isnull().sum())
